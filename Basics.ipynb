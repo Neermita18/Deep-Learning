{
  "nbformat": 4,
  "nbformat_minor": 0,
  "metadata": {
    "colab": {
      "provenance": [],
      "authorship_tag": "ABX9TyN1cHbA/fmgcSEhfHBywYZh",
      "include_colab_link": true
    },
    "kernelspec": {
      "name": "python3",
      "display_name": "Python 3"
    },
    "language_info": {
      "name": "python"
    }
  },
  "cells": [
    {
      "cell_type": "markdown",
      "metadata": {
        "id": "view-in-github",
        "colab_type": "text"
      },
      "source": [
        "<a href=\"https://colab.research.google.com/github/Neermita18/Deep-Learning/blob/main/Basics.ipynb\" target=\"_parent\"><img src=\"https://colab.research.google.com/assets/colab-badge.svg\" alt=\"Open In Colab\"/></a>"
      ]
    },
    {
      "cell_type": "markdown",
      "source": [
        "### Backpropagation with user functions\n"
      ],
      "metadata": {
        "id": "ls2wImbWDsZZ"
      }
    },
    {
      "cell_type": "code",
      "execution_count": 1,
      "metadata": {
        "id": "Gcb9vkvv_Ugu"
      },
      "outputs": [],
      "source": [
        "import torch\n",
        "import numpy as np\n",
        "import pandas as pd\n",
        "import matplotlib.pyplot as plt"
      ]
    },
    {
      "cell_type": "code",
      "source": [
        "X= torch.rand(2,3)\n",
        "Y= torch.rand(2,1)\n",
        "W= torch.zeros(3,1)"
      ],
      "metadata": {
        "id": "lYLkc9IUCEyw"
      },
      "execution_count": 34,
      "outputs": []
    },
    {
      "cell_type": "code",
      "source": [
        "def forward(x):\n",
        "  return torch.from_numpy(np.dot(x,W))\n",
        "def loss(y,y_pred):\n",
        "  return ((y_pred-y)**2).mean()\n",
        "def gradient(x,y,y_pred):\n",
        "  return np.dot(2*x.T,y_pred-y).mean()"
      ],
      "metadata": {
        "id": "nQHAShdYDrmT"
      },
      "execution_count": 37,
      "outputs": []
    },
    {
      "cell_type": "markdown",
      "source": [
        "> Basic Backprop and Loss"
      ],
      "metadata": {
        "id": "7GX_utuAKWHO"
      }
    },
    {
      "cell_type": "code",
      "source": [
        "lr=0.01\n",
        "i=10\n",
        "for epoch in range(i):\n",
        "  y_pred=forward(X)\n",
        "  l=loss(Y,y_pred)\n",
        "  dw=gradient(X,Y,y_pred)\n",
        "  W-=lr*dw\n",
        "  print(f\"Loss: {l}\\n\")"
      ],
      "metadata": {
        "colab": {
          "base_uri": "https://localhost:8080/"
        },
        "id": "O-Q4Kk_pEomh",
        "outputId": "4d0c2d1c-913d-490a-dfbe-615b48d8b329"
      },
      "execution_count": 38,
      "outputs": [
        {
          "output_type": "stream",
          "name": "stdout",
          "text": [
            "Loss: 0.2717524766921997\n",
            "\n",
            "Loss: 0.2552673816680908\n",
            "\n",
            "Loss: 0.24013637006282806\n",
            "\n",
            "Loss: 0.22624818980693817\n",
            "\n",
            "Loss: 0.21350081264972687\n",
            "\n",
            "Loss: 0.20180046558380127\n",
            "\n",
            "Loss: 0.19106118381023407\n",
            "\n",
            "Loss: 0.18120403587818146\n",
            "\n",
            "Loss: 0.17215652763843536\n",
            "\n",
            "Loss: 0.16385219991207123\n",
            "\n"
          ]
        }
      ]
    },
    {
      "cell_type": "markdown",
      "source": [],
      "metadata": {
        "id": "VwP4rV1AKZfz"
      }
    },
    {
      "cell_type": "markdown",
      "source": [
        "### Backprop with Autograd"
      ],
      "metadata": {
        "id": "iI0sPn5TTK2Q"
      }
    },
    {
      "cell_type": "code",
      "source": [
        "X=torch.rand(2,3, dtype=torch.float32)\n",
        "Y=torch.rand(2,1,dtype=torch.float32)\n",
        "W=torch.zeros(3,1,dtype=torch.float32,requires_grad=True)"
      ],
      "metadata": {
        "id": "VXDQFZzaE4Uu"
      },
      "execution_count": 39,
      "outputs": []
    },
    {
      "cell_type": "code",
      "source": [
        "def forward(x):\n",
        "  return torch.matmul(x,W)\n",
        "def loss(y,y_pred):\n",
        "  return ((y_pred-y)**2).mean()\n",
        "def gradient(x,y,y_pred):\n",
        "  return np.dot(2*x.T,y_pred-y).mean()"
      ],
      "metadata": {
        "id": "mL77oCgUTY9c"
      },
      "execution_count": 40,
      "outputs": []
    },
    {
      "cell_type": "code",
      "source": [
        "epochs=500\n",
        "lr=0.01\n",
        "for epoch in range(epochs):\n",
        "  y_pred=forward(X)\n",
        "  l=loss(Y,y_pred)\n",
        "  l.backward()\n",
        "  with torch.no_grad():\n",
        "    W-=lr*W.grad #manual updation of weights\n",
        "  W.grad.zero_()\n",
        "  if epoch%10==0:\n",
        "    print(f\"Loss: {l}\")"
      ],
      "metadata": {
        "colab": {
          "base_uri": "https://localhost:8080/"
        },
        "id": "4cKd8fKrTZl9",
        "outputId": "a7d4d1f6-97c6-48ee-f3d9-45d9d7f2e91a"
      },
      "execution_count": 41,
      "outputs": [
        {
          "output_type": "stream",
          "name": "stdout",
          "text": [
            "Loss: 0.36088237166404724\n",
            "Loss: 0.2830577790737152\n",
            "Loss: 0.22662831842899323\n",
            "Loss: 0.18559259176254272\n",
            "Loss: 0.15563520789146423\n",
            "Loss: 0.13365286588668823\n",
            "Loss: 0.11741384118795395\n",
            "Loss: 0.10531329363584518\n",
            "Loss: 0.0961969643831253\n",
            "Loss: 0.08923481404781342\n",
            "Loss: 0.08382968604564667\n",
            "Loss: 0.07955212891101837\n",
            "Loss: 0.07609312236309052\n",
            "Loss: 0.07323035597801208\n",
            "Loss: 0.07080376148223877\n",
            "Loss: 0.06869816780090332\n",
            "Loss: 0.06683050096035004\n",
            "Loss: 0.0651409775018692\n",
            "Loss: 0.06358647346496582\n",
            "Loss: 0.06213575601577759\n",
            "Loss: 0.06076633930206299\n",
            "Loss: 0.059461817145347595\n",
            "Loss: 0.0582103431224823\n",
            "Loss: 0.05700325220823288\n",
            "Loss: 0.055834174156188965\n",
            "Loss: 0.05469841510057449\n",
            "Loss: 0.05359248071908951\n",
            "Loss: 0.052513740956783295\n",
            "Loss: 0.051460184156894684\n",
            "Loss: 0.05043027177453041\n",
            "Loss: 0.04942277818918228\n",
            "Loss: 0.048436716198921204\n",
            "Loss: 0.047471240162849426\n",
            "Loss: 0.046525683254003525\n",
            "Loss: 0.045599453151226044\n",
            "Loss: 0.044691987335681915\n",
            "Loss: 0.04380284249782562\n",
            "Loss: 0.042931556701660156\n",
            "Loss: 0.042077742516994476\n",
            "Loss: 0.04124099016189575\n",
            "Loss: 0.040420956909656525\n",
            "Loss: 0.03961727023124695\n",
            "Loss: 0.03882959485054016\n",
            "Loss: 0.038057614117860794\n",
            "Loss: 0.03730098158121109\n",
            "Loss: 0.03655943274497986\n",
            "Loss: 0.035832617431879044\n",
            "Loss: 0.03512025251984596\n",
            "Loss: 0.03442206233739853\n",
            "Loss: 0.033737752586603165\n"
          ]
        }
      ]
    },
    {
      "cell_type": "markdown",
      "source": [
        "### PyTorch functions"
      ],
      "metadata": {
        "id": "u17yYdfzdTLK"
      }
    },
    {
      "cell_type": "code",
      "source": [
        "import torch.nn as nn"
      ],
      "metadata": {
        "id": "I90d8HY0VLf9"
      },
      "execution_count": 42,
      "outputs": []
    },
    {
      "cell_type": "code",
      "source": [
        "X=torch.rand(2,3, dtype=torch.float32)\n",
        "Y=torch.rand(2,1,dtype=torch.float32)\n",
        "W=torch.zeros(3,1,dtype=torch.float32,requires_grad=True)"
      ],
      "metadata": {
        "id": "BFUF1S44dWq5"
      },
      "execution_count": 43,
      "outputs": []
    },
    {
      "cell_type": "code",
      "source": [
        "def forward(x):\n",
        "  return torch.matmul(x,W)\n"
      ],
      "metadata": {
        "id": "Vdghn51PdeRe"
      },
      "execution_count": 45,
      "outputs": []
    },
    {
      "cell_type": "code",
      "source": [
        "loss= nn.MSELoss()\n",
        "optimizer= torch.optim.SGD([W],lr=0.01)"
      ],
      "metadata": {
        "id": "aY1QK2c1dofB"
      },
      "execution_count": 46,
      "outputs": []
    },
    {
      "cell_type": "code",
      "source": [
        "epochs=100\n",
        "for epoch in range(epochs):\n",
        "  y_pred=forward(X)\n",
        "  l=loss(Y,y_pred)\n",
        "  l.backward()\n",
        "  optimizer.step() #automatic update weights\n",
        "  optimizer.zero_grad()\n",
        "  print(f\"Epoch: {epoch}, Loss: {l}\")"
      ],
      "metadata": {
        "colab": {
          "base_uri": "https://localhost:8080/"
        },
        "id": "eWRi28jnd1Ao",
        "outputId": "25d191da-8444-4ae6-9a5a-3473a663c791"
      },
      "execution_count": 47,
      "outputs": [
        {
          "output_type": "stream",
          "name": "stdout",
          "text": [
            "Epoch: 0, Loss: 0.28995728492736816\n",
            "Epoch: 1, Loss: 0.2840479910373688\n",
            "Epoch: 2, Loss: 0.2782595157623291\n",
            "Epoch: 3, Loss: 0.27258944511413574\n",
            "Epoch: 4, Loss: 0.2670353353023529\n",
            "Epoch: 5, Loss: 0.2615947723388672\n",
            "Epoch: 6, Loss: 0.2562655210494995\n",
            "Epoch: 7, Loss: 0.25104519724845886\n",
            "Epoch: 8, Loss: 0.24593167006969452\n",
            "Epoch: 9, Loss: 0.2409226894378662\n",
            "Epoch: 10, Loss: 0.2360161542892456\n",
            "Epoch: 11, Loss: 0.23120993375778198\n",
            "Epoch: 12, Loss: 0.22650201618671417\n",
            "Epoch: 13, Loss: 0.22189034521579742\n",
            "Epoch: 14, Loss: 0.21737302839756012\n",
            "Epoch: 15, Loss: 0.2129480391740799\n",
            "Epoch: 16, Loss: 0.2086135298013687\n",
            "Epoch: 17, Loss: 0.20436766743659973\n",
            "Epoch: 18, Loss: 0.2002086043357849\n",
            "Epoch: 19, Loss: 0.19613458216190338\n",
            "Epoch: 20, Loss: 0.19214388728141785\n",
            "Epoch: 21, Loss: 0.18823476135730743\n",
            "Epoch: 22, Loss: 0.1844055950641632\n",
            "Epoch: 23, Loss: 0.18065470457077026\n",
            "Epoch: 24, Loss: 0.17698049545288086\n",
            "Epoch: 25, Loss: 0.17338141798973083\n",
            "Epoch: 26, Loss: 0.16985593736171722\n",
            "Epoch: 27, Loss: 0.16640251874923706\n",
            "Epoch: 28, Loss: 0.16301971673965454\n",
            "Epoch: 29, Loss: 0.15970605611801147\n",
            "Epoch: 30, Loss: 0.15646015107631683\n",
            "Epoch: 31, Loss: 0.1532806009054184\n",
            "Epoch: 32, Loss: 0.15016604959964752\n",
            "Epoch: 33, Loss: 0.14711518585681915\n",
            "Epoch: 34, Loss: 0.14412668347358704\n",
            "Epoch: 35, Loss: 0.1411992609500885\n",
            "Epoch: 36, Loss: 0.13833168148994446\n",
            "Epoch: 37, Loss: 0.1355227380990982\n",
            "Epoch: 38, Loss: 0.13277119398117065\n",
            "Epoch: 39, Loss: 0.13007590174674988\n",
            "Epoch: 40, Loss: 0.12743571400642395\n",
            "Epoch: 41, Loss: 0.12484949827194214\n",
            "Epoch: 42, Loss: 0.12231612205505371\n",
            "Epoch: 43, Loss: 0.1198345497250557\n",
            "Epoch: 44, Loss: 0.11740367859601974\n",
            "Epoch: 45, Loss: 0.11502249538898468\n",
            "Epoch: 46, Loss: 0.11268998682498932\n",
            "Epoch: 47, Loss: 0.11040515452623367\n",
            "Epoch: 48, Loss: 0.10816700756549835\n",
            "Epoch: 49, Loss: 0.10597460716962814\n",
            "Epoch: 50, Loss: 0.10382699966430664\n",
            "Epoch: 51, Loss: 0.10172329097986221\n",
            "Epoch: 52, Loss: 0.09966257214546204\n",
            "Epoch: 53, Loss: 0.09764397144317627\n",
            "Epoch: 54, Loss: 0.09566660225391388\n",
            "Epoch: 55, Loss: 0.093729667365551\n",
            "Epoch: 56, Loss: 0.09183228760957718\n",
            "Epoch: 57, Loss: 0.08997370302677155\n",
            "Epoch: 58, Loss: 0.08815306425094604\n",
            "Epoch: 59, Loss: 0.08636964112520218\n",
            "Epoch: 60, Loss: 0.08462263643741608\n",
            "Epoch: 61, Loss: 0.08291134238243103\n",
            "Epoch: 62, Loss: 0.08123499900102615\n",
            "Epoch: 63, Loss: 0.07959292829036713\n",
            "Epoch: 64, Loss: 0.07798438519239426\n",
            "Epoch: 65, Loss: 0.07640870660543442\n",
            "Epoch: 66, Loss: 0.07486522197723389\n",
            "Epoch: 67, Loss: 0.07335326075553894\n",
            "Epoch: 68, Loss: 0.07187219709157944\n",
            "Epoch: 69, Loss: 0.07042136788368225\n",
            "Epoch: 70, Loss: 0.06900018453598022\n",
            "Epoch: 71, Loss: 0.06760801374912262\n",
            "Epoch: 72, Loss: 0.06624431163072586\n",
            "Epoch: 73, Loss: 0.06490843743085861\n",
            "Epoch: 74, Loss: 0.0635998472571373\n",
            "Epoch: 75, Loss: 0.06231798231601715\n",
            "Epoch: 76, Loss: 0.061062298715114594\n",
            "Epoch: 77, Loss: 0.05983225628733635\n",
            "Epoch: 78, Loss: 0.05862732604146004\n",
            "Epoch: 79, Loss: 0.057447001338005066\n",
            "Epoch: 80, Loss: 0.056290775537490845\n",
            "Epoch: 81, Loss: 0.05515816807746887\n",
            "Epoch: 82, Loss: 0.054048679769039154\n",
            "Epoch: 83, Loss: 0.052961837500333786\n",
            "Epoch: 84, Loss: 0.051897190511226654\n",
            "Epoch: 85, Loss: 0.05085426941514015\n",
            "Epoch: 86, Loss: 0.049832649528980255\n",
            "Epoch: 87, Loss: 0.04883188009262085\n",
            "Epoch: 88, Loss: 0.04785153269767761\n",
            "Epoch: 89, Loss: 0.04689120128750801\n",
            "Epoch: 90, Loss: 0.045950472354888916\n",
            "Epoch: 91, Loss: 0.045028943568468094\n",
            "Epoch: 92, Loss: 0.04412621259689331\n",
            "Epoch: 93, Loss: 0.04324190691113472\n",
            "Epoch: 94, Loss: 0.042375657707452774\n",
            "Epoch: 95, Loss: 0.041527070105075836\n",
            "Epoch: 96, Loss: 0.040695805102586746\n",
            "Epoch: 97, Loss: 0.03988150879740715\n",
            "Epoch: 98, Loss: 0.0390838161110878\n",
            "Epoch: 99, Loss: 0.038302402943372726\n"
          ]
        }
      ]
    },
    {
      "cell_type": "markdown",
      "source": [
        "### Without manual weights and forward"
      ],
      "metadata": {
        "id": "5gkVHfSQghBN"
      }
    },
    {
      "cell_type": "code",
      "source": [
        "model=nn.Linear(3,3)"
      ],
      "metadata": {
        "id": "raFhhhuGeaIr"
      },
      "execution_count": 48,
      "outputs": []
    },
    {
      "cell_type": "code",
      "source": [
        "epochs=100\n",
        "lr=0.01\n",
        "loss= nn.MSELoss()\n",
        "optimizer= torch.optim.SGD(model.parameters(),lr=0.01)"
      ],
      "metadata": {
        "id": "mcOxKm0zmIg6"
      },
      "execution_count": 49,
      "outputs": []
    },
    {
      "cell_type": "code",
      "source": [
        "for epoch in range(epochs):\n",
        "  y_pred=model(X)\n",
        "  l=loss(Y,y_pred)\n",
        "  l.backward()\n",
        "  optimizer.step() #automatic update weights\n",
        "  optimizer.zero_grad()\n",
        "  print(f\"Epoch: {epoch}, Loss: {l}\")"
      ],
      "metadata": {
        "colab": {
          "base_uri": "https://localhost:8080/"
        },
        "id": "lJTM1A-pmjO_",
        "outputId": "d859afd1-a9eb-42c6-95ed-b4a53aa324ba"
      },
      "execution_count": 50,
      "outputs": [
        {
          "output_type": "stream",
          "name": "stdout",
          "text": [
            "Epoch: 0, Loss: 0.40170636773109436\n",
            "Epoch: 1, Loss: 0.3939256966114044\n",
            "Epoch: 2, Loss: 0.38630053400993347\n",
            "Epoch: 3, Loss: 0.3788280487060547\n",
            "Epoch: 4, Loss: 0.37150493264198303\n",
            "Epoch: 5, Loss: 0.3643285036087036\n",
            "Epoch: 6, Loss: 0.35729551315307617\n",
            "Epoch: 7, Loss: 0.35040321946144104\n",
            "Epoch: 8, Loss: 0.34364888072013855\n",
            "Epoch: 9, Loss: 0.3370295763015747\n",
            "Epoch: 10, Loss: 0.3305427134037018\n",
            "Epoch: 11, Loss: 0.3241855204105377\n",
            "Epoch: 12, Loss: 0.31795555353164673\n",
            "Epoch: 13, Loss: 0.3118501305580139\n",
            "Epoch: 14, Loss: 0.3058668375015259\n",
            "Epoch: 15, Loss: 0.30000320076942444\n",
            "Epoch: 16, Loss: 0.2942568361759186\n",
            "Epoch: 17, Loss: 0.2886253297328949\n",
            "Epoch: 18, Loss: 0.2831064760684967\n",
            "Epoch: 19, Loss: 0.27769798040390015\n",
            "Epoch: 20, Loss: 0.27239760756492615\n",
            "Epoch: 21, Loss: 0.267203152179718\n",
            "Epoch: 22, Loss: 0.2621126174926758\n",
            "Epoch: 23, Loss: 0.25712379813194275\n",
            "Epoch: 24, Loss: 0.2522347867488861\n",
            "Epoch: 25, Loss: 0.24744343757629395\n",
            "Epoch: 26, Loss: 0.24274788796901703\n",
            "Epoch: 27, Loss: 0.23814617097377777\n",
            "Epoch: 28, Loss: 0.23363642394542694\n",
            "Epoch: 29, Loss: 0.22921685874462128\n",
            "Epoch: 30, Loss: 0.22488552331924438\n",
            "Epoch: 31, Loss: 0.22064079344272614\n",
            "Epoch: 32, Loss: 0.21648089587688446\n",
            "Epoch: 33, Loss: 0.21240411698818207\n",
            "Epoch: 34, Loss: 0.20840877294540405\n",
            "Epoch: 35, Loss: 0.20449328422546387\n",
            "Epoch: 36, Loss: 0.200655996799469\n",
            "Epoch: 37, Loss: 0.19689534604549408\n",
            "Epoch: 38, Loss: 0.19320984184741974\n",
            "Epoch: 39, Loss: 0.189597949385643\n",
            "Epoch: 40, Loss: 0.1860581785440445\n",
            "Epoch: 41, Loss: 0.1825891137123108\n",
            "Epoch: 42, Loss: 0.17918933928012848\n",
            "Epoch: 43, Loss: 0.17585743963718414\n",
            "Epoch: 44, Loss: 0.17259210348129272\n",
            "Epoch: 45, Loss: 0.1693919450044632\n",
            "Epoch: 46, Loss: 0.1662556380033493\n",
            "Epoch: 47, Loss: 0.16318197548389435\n",
            "Epoch: 48, Loss: 0.16016969084739685\n",
            "Epoch: 49, Loss: 0.15721751749515533\n",
            "Epoch: 50, Loss: 0.1543242633342743\n",
            "Epoch: 51, Loss: 0.1514887511730194\n",
            "Epoch: 52, Loss: 0.14870980381965637\n",
            "Epoch: 53, Loss: 0.14598633348941803\n",
            "Epoch: 54, Loss: 0.14331717789173126\n",
            "Epoch: 55, Loss: 0.1407013088464737\n",
            "Epoch: 56, Loss: 0.1381375789642334\n",
            "Epoch: 57, Loss: 0.13562503457069397\n",
            "Epoch: 58, Loss: 0.13316258788108826\n",
            "Epoch: 59, Loss: 0.13074924051761627\n",
            "Epoch: 60, Loss: 0.1283840388059616\n",
            "Epoch: 61, Loss: 0.12606598436832428\n",
            "Epoch: 62, Loss: 0.12379414588212967\n",
            "Epoch: 63, Loss: 0.12156760692596436\n",
            "Epoch: 64, Loss: 0.11938545107841492\n",
            "Epoch: 65, Loss: 0.11724679917097092\n",
            "Epoch: 66, Loss: 0.11515074968338013\n",
            "Epoch: 67, Loss: 0.11309648305177689\n",
            "Epoch: 68, Loss: 0.11108314990997314\n",
            "Epoch: 69, Loss: 0.10910991579294205\n",
            "Epoch: 70, Loss: 0.10717601329088211\n",
            "Epoch: 71, Loss: 0.10528060793876648\n",
            "Epoch: 72, Loss: 0.10342296957969666\n",
            "Epoch: 73, Loss: 0.10160232335329056\n",
            "Epoch: 74, Loss: 0.0998179093003273\n",
            "Epoch: 75, Loss: 0.09806906431913376\n",
            "Epoch: 76, Loss: 0.09635499864816666\n",
            "Epoch: 77, Loss: 0.09467506408691406\n",
            "Epoch: 78, Loss: 0.09302855283021927\n",
            "Epoch: 79, Loss: 0.09141480177640915\n",
            "Epoch: 80, Loss: 0.08983317017555237\n",
            "Epoch: 81, Loss: 0.0882829949259758\n",
            "Epoch: 82, Loss: 0.08676367253065109\n",
            "Epoch: 83, Loss: 0.08527453988790512\n",
            "Epoch: 84, Loss: 0.08381503820419312\n",
            "Epoch: 85, Loss: 0.08238454908132553\n",
            "Epoch: 86, Loss: 0.08098248392343521\n",
            "Epoch: 87, Loss: 0.07960829883813858\n",
            "Epoch: 88, Loss: 0.07826141268014908\n",
            "Epoch: 89, Loss: 0.07694130390882492\n",
            "Epoch: 90, Loss: 0.07564741373062134\n",
            "Epoch: 91, Loss: 0.07437922060489655\n",
            "Epoch: 92, Loss: 0.07313621044158936\n",
            "Epoch: 93, Loss: 0.07191788405179977\n",
            "Epoch: 94, Loss: 0.0707237496972084\n",
            "Epoch: 95, Loss: 0.06955330818891525\n",
            "Epoch: 96, Loss: 0.06840609759092331\n",
            "Epoch: 97, Loss: 0.06728164851665497\n",
            "Epoch: 98, Loss: 0.06617950648069382\n",
            "Epoch: 99, Loss: 0.06509923189878464\n"
          ]
        },
        {
          "output_type": "stream",
          "name": "stderr",
          "text": [
            "/usr/local/lib/python3.10/dist-packages/torch/nn/modules/loss.py:608: UserWarning: Using a target size (torch.Size([2, 3])) that is different to the input size (torch.Size([2, 1])). This will likely lead to incorrect results due to broadcasting. Please ensure they have the same size.\n",
            "  return F.mse_loss(input, target, reduction=self.reduction)\n"
          ]
        }
      ]
    },
    {
      "cell_type": "code",
      "source": [
        "model"
      ],
      "metadata": {
        "colab": {
          "base_uri": "https://localhost:8080/"
        },
        "id": "XBnM4cBZmmKV",
        "outputId": "83157bc2-9ad8-4a0a-93f5-7f867e36cd2a"
      },
      "execution_count": 51,
      "outputs": [
        {
          "output_type": "execute_result",
          "data": {
            "text/plain": [
              "Linear(in_features=3, out_features=3, bias=True)"
            ]
          },
          "metadata": {},
          "execution_count": 51
        }
      ]
    },
    {
      "cell_type": "markdown",
      "source": [
        "### Data Manipulation"
      ],
      "metadata": {
        "id": "mM8GlnlHSQZK"
      }
    },
    {
      "cell_type": "code",
      "source": [
        "import torch\n",
        "import torch.nn as nn\n",
        "import numpy as np\n",
        "import pandas as pd"
      ],
      "metadata": {
        "id": "5C1R8-NiSfDG"
      },
      "execution_count": 1,
      "outputs": []
    },
    {
      "cell_type": "code",
      "source": [
        "x= torch.arange(12, dtype=torch.float32)"
      ],
      "metadata": {
        "id": "BNVkEpdympq-"
      },
      "execution_count": 4,
      "outputs": []
    },
    {
      "cell_type": "code",
      "source": [
        "x"
      ],
      "metadata": {
        "colab": {
          "base_uri": "https://localhost:8080/"
        },
        "id": "bK_KdhjNSdrq",
        "outputId": "08e86541-54e8-4e9f-dda2-f4d249915dbc"
      },
      "execution_count": 5,
      "outputs": [
        {
          "output_type": "execute_result",
          "data": {
            "text/plain": [
              "tensor([ 0.,  1.,  2.,  3.,  4.,  5.,  6.,  7.,  8.,  9., 10., 11.])"
            ]
          },
          "metadata": {},
          "execution_count": 5
        }
      ]
    },
    {
      "cell_type": "code",
      "source": [
        "x.numel()"
      ],
      "metadata": {
        "colab": {
          "base_uri": "https://localhost:8080/"
        },
        "id": "m13Lmjg5SeE7",
        "outputId": "2367bf57-34f3-4c56-8cee-0e2ccf642ae9"
      },
      "execution_count": 7,
      "outputs": [
        {
          "output_type": "execute_result",
          "data": {
            "text/plain": [
              "12"
            ]
          },
          "metadata": {},
          "execution_count": 7
        }
      ]
    },
    {
      "cell_type": "code",
      "source": [
        "x=x.reshape(-1,1)"
      ],
      "metadata": {
        "id": "3sNI-80teQgy"
      },
      "execution_count": 16,
      "outputs": []
    },
    {
      "cell_type": "code",
      "source": [
        "x.shape"
      ],
      "metadata": {
        "colab": {
          "base_uri": "https://localhost:8080/"
        },
        "id": "qlL1vgYwfXZx",
        "outputId": "21eb4dfd-d804-44ad-c50a-3713ebbd0050"
      },
      "execution_count": 17,
      "outputs": [
        {
          "output_type": "execute_result",
          "data": {
            "text/plain": [
              "torch.Size([12, 1])"
            ]
          },
          "metadata": {},
          "execution_count": 17
        }
      ]
    },
    {
      "cell_type": "code",
      "source": [
        "torch.rand(2,2)  #0 and 1"
      ],
      "metadata": {
        "colab": {
          "base_uri": "https://localhost:8080/"
        },
        "id": "5bZd1YpGf0GA",
        "outputId": "d1ab9e13-9e8b-436d-db96-cb2d09dbf859"
      },
      "execution_count": 24,
      "outputs": [
        {
          "output_type": "execute_result",
          "data": {
            "text/plain": [
              "tensor([[0.0659, 0.8180],\n",
              "        [0.2937, 0.8608]])"
            ]
          },
          "metadata": {},
          "execution_count": 24
        }
      ]
    },
    {
      "cell_type": "code",
      "source": [
        "torch.randn(2,2) #gausssian distr"
      ],
      "metadata": {
        "colab": {
          "base_uri": "https://localhost:8080/"
        },
        "id": "7bUFL1lIf478",
        "outputId": "5f316d92-e595-49f0-86e2-ce989f29d2fe"
      },
      "execution_count": 25,
      "outputs": [
        {
          "output_type": "execute_result",
          "data": {
            "text/plain": [
              "tensor([[-0.8421, -1.8728],\n",
              "        [-0.5200, -0.3658]])"
            ]
          },
          "metadata": {},
          "execution_count": 25
        }
      ]
    },
    {
      "cell_type": "markdown",
      "source": [
        "### Data Manipulation"
      ],
      "metadata": {
        "id": "apVTOg2jcMO9"
      }
    },
    {
      "cell_type": "code",
      "source": [
        "X= torch.arange(12, dtype=torch.float32).reshape(3,4)\n",
        "Y= torch.tensor([[2,1,4,3],[1,2,3,4],[4,3,2,1]])"
      ],
      "metadata": {
        "id": "kIS9INDMgcb-"
      },
      "execution_count": 2,
      "outputs": []
    },
    {
      "cell_type": "code",
      "source": [
        "torch.cat((X,Y), dim=0)"
      ],
      "metadata": {
        "colab": {
          "base_uri": "https://localhost:8080/"
        },
        "id": "4Aq4-9QGcXvA",
        "outputId": "f91fd015-9051-4a20-fee4-4e9dcae6e56e"
      },
      "execution_count": 3,
      "outputs": [
        {
          "output_type": "execute_result",
          "data": {
            "text/plain": [
              "tensor([[ 0.,  1.,  2.,  3.],\n",
              "        [ 4.,  5.,  6.,  7.],\n",
              "        [ 8.,  9., 10., 11.],\n",
              "        [ 2.,  1.,  4.,  3.],\n",
              "        [ 1.,  2.,  3.,  4.],\n",
              "        [ 4.,  3.,  2.,  1.]])"
            ]
          },
          "metadata": {},
          "execution_count": 3
        }
      ]
    },
    {
      "cell_type": "code",
      "source": [
        "torch.cat((X,Y), dim=1)"
      ],
      "metadata": {
        "colab": {
          "base_uri": "https://localhost:8080/"
        },
        "id": "6DPRuA3sccUx",
        "outputId": "c36a6dd1-6c2a-44c8-a42d-21edc1644678"
      },
      "execution_count": 4,
      "outputs": [
        {
          "output_type": "execute_result",
          "data": {
            "text/plain": [
              "tensor([[ 0.,  1.,  2.,  3.,  2.,  1.,  4.,  3.],\n",
              "        [ 4.,  5.,  6.,  7.,  1.,  2.,  3.,  4.],\n",
              "        [ 8.,  9., 10., 11.,  4.,  3.,  2.,  1.]])"
            ]
          },
          "metadata": {},
          "execution_count": 4
        }
      ]
    },
    {
      "cell_type": "code",
      "source": [
        "X==Y"
      ],
      "metadata": {
        "colab": {
          "base_uri": "https://localhost:8080/"
        },
        "id": "1Hv_pWPHcfbp",
        "outputId": "c437ea97-bf27-417c-fc24-c7046db6e2cd"
      },
      "execution_count": 5,
      "outputs": [
        {
          "output_type": "execute_result",
          "data": {
            "text/plain": [
              "tensor([[False,  True, False,  True],\n",
              "        [False, False, False, False],\n",
              "        [False, False, False, False]])"
            ]
          },
          "metadata": {},
          "execution_count": 5
        }
      ]
    },
    {
      "cell_type": "code",
      "source": [
        "X.sum()"
      ],
      "metadata": {
        "colab": {
          "base_uri": "https://localhost:8080/"
        },
        "id": "lu7C-SKncna2",
        "outputId": "91c15d90-b42e-4c19-dd64-8a1b16cfc186"
      },
      "execution_count": 6,
      "outputs": [
        {
          "output_type": "execute_result",
          "data": {
            "text/plain": [
              "tensor(66.)"
            ]
          },
          "metadata": {},
          "execution_count": 6
        }
      ]
    },
    {
      "cell_type": "markdown",
      "source": [
        "### Data Preparation"
      ],
      "metadata": {
        "id": "AJr9MyyUeKwJ"
      }
    },
    {
      "cell_type": "code",
      "source": [
        "import os\n",
        "os.makedirs(os.path.join(\"..\", 'data'), exist_ok=True)\n",
        "data_file= os.path.join(\"..\", 'data', 'house_tiny.csv')\n",
        "with open(data_file, 'w' ) as f:\n",
        "  f.write('''NumRooms,Alley,Price\n",
        "  NA,NA,127500\n",
        "  2,NA,106000\n",
        "  4,Slate,178637\n",
        "  NA,NA,140000''')"
      ],
      "metadata": {
        "id": "GVeOB0sfcp5T"
      },
      "execution_count": 26,
      "outputs": []
    },
    {
      "cell_type": "code",
      "source": [
        "data= pd.read_csv(\"/data/house_tiny.csv\")"
      ],
      "metadata": {
        "id": "ct5rzPykf6qZ"
      },
      "execution_count": 44,
      "outputs": []
    },
    {
      "cell_type": "code",
      "source": [
        "data"
      ],
      "metadata": {
        "colab": {
          "base_uri": "https://localhost:8080/",
          "height": 175
        },
        "id": "oZYcO3Tjf-JZ",
        "outputId": "6a43034b-dbdc-4a19-dc97-8adc0a961641"
      },
      "execution_count": 48,
      "outputs": [
        {
          "output_type": "execute_result",
          "data": {
            "text/plain": [
              "   NumRooms  Alley   Price\n",
              "0       NaN    NaN  127500\n",
              "1       2.0    NaN  106000\n",
              "2       4.0  Slate  178637\n",
              "3       NaN    NaN  140000"
            ],
            "text/html": [
              "\n",
              "  <div id=\"df-03c32e29-d2dd-4ce5-9d29-1757f167562c\" class=\"colab-df-container\">\n",
              "    <div>\n",
              "<style scoped>\n",
              "    .dataframe tbody tr th:only-of-type {\n",
              "        vertical-align: middle;\n",
              "    }\n",
              "\n",
              "    .dataframe tbody tr th {\n",
              "        vertical-align: top;\n",
              "    }\n",
              "\n",
              "    .dataframe thead th {\n",
              "        text-align: right;\n",
              "    }\n",
              "</style>\n",
              "<table border=\"1\" class=\"dataframe\">\n",
              "  <thead>\n",
              "    <tr style=\"text-align: right;\">\n",
              "      <th></th>\n",
              "      <th>NumRooms</th>\n",
              "      <th>Alley</th>\n",
              "      <th>Price</th>\n",
              "    </tr>\n",
              "  </thead>\n",
              "  <tbody>\n",
              "    <tr>\n",
              "      <th>0</th>\n",
              "      <td>NaN</td>\n",
              "      <td>NaN</td>\n",
              "      <td>127500</td>\n",
              "    </tr>\n",
              "    <tr>\n",
              "      <th>1</th>\n",
              "      <td>2.0</td>\n",
              "      <td>NaN</td>\n",
              "      <td>106000</td>\n",
              "    </tr>\n",
              "    <tr>\n",
              "      <th>2</th>\n",
              "      <td>4.0</td>\n",
              "      <td>Slate</td>\n",
              "      <td>178637</td>\n",
              "    </tr>\n",
              "    <tr>\n",
              "      <th>3</th>\n",
              "      <td>NaN</td>\n",
              "      <td>NaN</td>\n",
              "      <td>140000</td>\n",
              "    </tr>\n",
              "  </tbody>\n",
              "</table>\n",
              "</div>\n",
              "    <div class=\"colab-df-buttons\">\n",
              "\n",
              "  <div class=\"colab-df-container\">\n",
              "    <button class=\"colab-df-convert\" onclick=\"convertToInteractive('df-03c32e29-d2dd-4ce5-9d29-1757f167562c')\"\n",
              "            title=\"Convert this dataframe to an interactive table.\"\n",
              "            style=\"display:none;\">\n",
              "\n",
              "  <svg xmlns=\"http://www.w3.org/2000/svg\" height=\"24px\" viewBox=\"0 -960 960 960\">\n",
              "    <path d=\"M120-120v-720h720v720H120Zm60-500h600v-160H180v160Zm220 220h160v-160H400v160Zm0 220h160v-160H400v160ZM180-400h160v-160H180v160Zm440 0h160v-160H620v160ZM180-180h160v-160H180v160Zm440 0h160v-160H620v160Z\"/>\n",
              "  </svg>\n",
              "    </button>\n",
              "\n",
              "  <style>\n",
              "    .colab-df-container {\n",
              "      display:flex;\n",
              "      gap: 12px;\n",
              "    }\n",
              "\n",
              "    .colab-df-convert {\n",
              "      background-color: #E8F0FE;\n",
              "      border: none;\n",
              "      border-radius: 50%;\n",
              "      cursor: pointer;\n",
              "      display: none;\n",
              "      fill: #1967D2;\n",
              "      height: 32px;\n",
              "      padding: 0 0 0 0;\n",
              "      width: 32px;\n",
              "    }\n",
              "\n",
              "    .colab-df-convert:hover {\n",
              "      background-color: #E2EBFA;\n",
              "      box-shadow: 0px 1px 2px rgba(60, 64, 67, 0.3), 0px 1px 3px 1px rgba(60, 64, 67, 0.15);\n",
              "      fill: #174EA6;\n",
              "    }\n",
              "\n",
              "    .colab-df-buttons div {\n",
              "      margin-bottom: 4px;\n",
              "    }\n",
              "\n",
              "    [theme=dark] .colab-df-convert {\n",
              "      background-color: #3B4455;\n",
              "      fill: #D2E3FC;\n",
              "    }\n",
              "\n",
              "    [theme=dark] .colab-df-convert:hover {\n",
              "      background-color: #434B5C;\n",
              "      box-shadow: 0px 1px 3px 1px rgba(0, 0, 0, 0.15);\n",
              "      filter: drop-shadow(0px 1px 2px rgba(0, 0, 0, 0.3));\n",
              "      fill: #FFFFFF;\n",
              "    }\n",
              "  </style>\n",
              "\n",
              "    <script>\n",
              "      const buttonEl =\n",
              "        document.querySelector('#df-03c32e29-d2dd-4ce5-9d29-1757f167562c button.colab-df-convert');\n",
              "      buttonEl.style.display =\n",
              "        google.colab.kernel.accessAllowed ? 'block' : 'none';\n",
              "\n",
              "      async function convertToInteractive(key) {\n",
              "        const element = document.querySelector('#df-03c32e29-d2dd-4ce5-9d29-1757f167562c');\n",
              "        const dataTable =\n",
              "          await google.colab.kernel.invokeFunction('convertToInteractive',\n",
              "                                                    [key], {});\n",
              "        if (!dataTable) return;\n",
              "\n",
              "        const docLinkHtml = 'Like what you see? Visit the ' +\n",
              "          '<a target=\"_blank\" href=https://colab.research.google.com/notebooks/data_table.ipynb>data table notebook</a>'\n",
              "          + ' to learn more about interactive tables.';\n",
              "        element.innerHTML = '';\n",
              "        dataTable['output_type'] = 'display_data';\n",
              "        await google.colab.output.renderOutput(dataTable, element);\n",
              "        const docLink = document.createElement('div');\n",
              "        docLink.innerHTML = docLinkHtml;\n",
              "        element.appendChild(docLink);\n",
              "      }\n",
              "    </script>\n",
              "  </div>\n",
              "\n",
              "\n",
              "<div id=\"df-676e6047-e1c5-45ef-a9fd-894ef5d30366\">\n",
              "  <button class=\"colab-df-quickchart\" onclick=\"quickchart('df-676e6047-e1c5-45ef-a9fd-894ef5d30366')\"\n",
              "            title=\"Suggest charts\"\n",
              "            style=\"display:none;\">\n",
              "\n",
              "<svg xmlns=\"http://www.w3.org/2000/svg\" height=\"24px\"viewBox=\"0 0 24 24\"\n",
              "     width=\"24px\">\n",
              "    <g>\n",
              "        <path d=\"M19 3H5c-1.1 0-2 .9-2 2v14c0 1.1.9 2 2 2h14c1.1 0 2-.9 2-2V5c0-1.1-.9-2-2-2zM9 17H7v-7h2v7zm4 0h-2V7h2v10zm4 0h-2v-4h2v4z\"/>\n",
              "    </g>\n",
              "</svg>\n",
              "  </button>\n",
              "\n",
              "<style>\n",
              "  .colab-df-quickchart {\n",
              "      --bg-color: #E8F0FE;\n",
              "      --fill-color: #1967D2;\n",
              "      --hover-bg-color: #E2EBFA;\n",
              "      --hover-fill-color: #174EA6;\n",
              "      --disabled-fill-color: #AAA;\n",
              "      --disabled-bg-color: #DDD;\n",
              "  }\n",
              "\n",
              "  [theme=dark] .colab-df-quickchart {\n",
              "      --bg-color: #3B4455;\n",
              "      --fill-color: #D2E3FC;\n",
              "      --hover-bg-color: #434B5C;\n",
              "      --hover-fill-color: #FFFFFF;\n",
              "      --disabled-bg-color: #3B4455;\n",
              "      --disabled-fill-color: #666;\n",
              "  }\n",
              "\n",
              "  .colab-df-quickchart {\n",
              "    background-color: var(--bg-color);\n",
              "    border: none;\n",
              "    border-radius: 50%;\n",
              "    cursor: pointer;\n",
              "    display: none;\n",
              "    fill: var(--fill-color);\n",
              "    height: 32px;\n",
              "    padding: 0;\n",
              "    width: 32px;\n",
              "  }\n",
              "\n",
              "  .colab-df-quickchart:hover {\n",
              "    background-color: var(--hover-bg-color);\n",
              "    box-shadow: 0 1px 2px rgba(60, 64, 67, 0.3), 0 1px 3px 1px rgba(60, 64, 67, 0.15);\n",
              "    fill: var(--button-hover-fill-color);\n",
              "  }\n",
              "\n",
              "  .colab-df-quickchart-complete:disabled,\n",
              "  .colab-df-quickchart-complete:disabled:hover {\n",
              "    background-color: var(--disabled-bg-color);\n",
              "    fill: var(--disabled-fill-color);\n",
              "    box-shadow: none;\n",
              "  }\n",
              "\n",
              "  .colab-df-spinner {\n",
              "    border: 2px solid var(--fill-color);\n",
              "    border-color: transparent;\n",
              "    border-bottom-color: var(--fill-color);\n",
              "    animation:\n",
              "      spin 1s steps(1) infinite;\n",
              "  }\n",
              "\n",
              "  @keyframes spin {\n",
              "    0% {\n",
              "      border-color: transparent;\n",
              "      border-bottom-color: var(--fill-color);\n",
              "      border-left-color: var(--fill-color);\n",
              "    }\n",
              "    20% {\n",
              "      border-color: transparent;\n",
              "      border-left-color: var(--fill-color);\n",
              "      border-top-color: var(--fill-color);\n",
              "    }\n",
              "    30% {\n",
              "      border-color: transparent;\n",
              "      border-left-color: var(--fill-color);\n",
              "      border-top-color: var(--fill-color);\n",
              "      border-right-color: var(--fill-color);\n",
              "    }\n",
              "    40% {\n",
              "      border-color: transparent;\n",
              "      border-right-color: var(--fill-color);\n",
              "      border-top-color: var(--fill-color);\n",
              "    }\n",
              "    60% {\n",
              "      border-color: transparent;\n",
              "      border-right-color: var(--fill-color);\n",
              "    }\n",
              "    80% {\n",
              "      border-color: transparent;\n",
              "      border-right-color: var(--fill-color);\n",
              "      border-bottom-color: var(--fill-color);\n",
              "    }\n",
              "    90% {\n",
              "      border-color: transparent;\n",
              "      border-bottom-color: var(--fill-color);\n",
              "    }\n",
              "  }\n",
              "</style>\n",
              "\n",
              "  <script>\n",
              "    async function quickchart(key) {\n",
              "      const quickchartButtonEl =\n",
              "        document.querySelector('#' + key + ' button');\n",
              "      quickchartButtonEl.disabled = true;  // To prevent multiple clicks.\n",
              "      quickchartButtonEl.classList.add('colab-df-spinner');\n",
              "      try {\n",
              "        const charts = await google.colab.kernel.invokeFunction(\n",
              "            'suggestCharts', [key], {});\n",
              "      } catch (error) {\n",
              "        console.error('Error during call to suggestCharts:', error);\n",
              "      }\n",
              "      quickchartButtonEl.classList.remove('colab-df-spinner');\n",
              "      quickchartButtonEl.classList.add('colab-df-quickchart-complete');\n",
              "    }\n",
              "    (() => {\n",
              "      let quickchartButtonEl =\n",
              "        document.querySelector('#df-676e6047-e1c5-45ef-a9fd-894ef5d30366 button');\n",
              "      quickchartButtonEl.style.display =\n",
              "        google.colab.kernel.accessAllowed ? 'block' : 'none';\n",
              "    })();\n",
              "  </script>\n",
              "</div>\n",
              "\n",
              "  <div id=\"id_b9a80ecd-c1ed-47f7-943f-ba7bd7656da7\">\n",
              "    <style>\n",
              "      .colab-df-generate {\n",
              "        background-color: #E8F0FE;\n",
              "        border: none;\n",
              "        border-radius: 50%;\n",
              "        cursor: pointer;\n",
              "        display: none;\n",
              "        fill: #1967D2;\n",
              "        height: 32px;\n",
              "        padding: 0 0 0 0;\n",
              "        width: 32px;\n",
              "      }\n",
              "\n",
              "      .colab-df-generate:hover {\n",
              "        background-color: #E2EBFA;\n",
              "        box-shadow: 0px 1px 2px rgba(60, 64, 67, 0.3), 0px 1px 3px 1px rgba(60, 64, 67, 0.15);\n",
              "        fill: #174EA6;\n",
              "      }\n",
              "\n",
              "      [theme=dark] .colab-df-generate {\n",
              "        background-color: #3B4455;\n",
              "        fill: #D2E3FC;\n",
              "      }\n",
              "\n",
              "      [theme=dark] .colab-df-generate:hover {\n",
              "        background-color: #434B5C;\n",
              "        box-shadow: 0px 1px 3px 1px rgba(0, 0, 0, 0.15);\n",
              "        filter: drop-shadow(0px 1px 2px rgba(0, 0, 0, 0.3));\n",
              "        fill: #FFFFFF;\n",
              "      }\n",
              "    </style>\n",
              "    <button class=\"colab-df-generate\" onclick=\"generateWithVariable('data')\"\n",
              "            title=\"Generate code using this dataframe.\"\n",
              "            style=\"display:none;\">\n",
              "\n",
              "  <svg xmlns=\"http://www.w3.org/2000/svg\" height=\"24px\"viewBox=\"0 0 24 24\"\n",
              "       width=\"24px\">\n",
              "    <path d=\"M7,19H8.4L18.45,9,17,7.55,7,17.6ZM5,21V16.75L18.45,3.32a2,2,0,0,1,2.83,0l1.4,1.43a1.91,1.91,0,0,1,.58,1.4,1.91,1.91,0,0,1-.58,1.4L9.25,21ZM18.45,9,17,7.55Zm-12,3A5.31,5.31,0,0,0,4.9,8.1,5.31,5.31,0,0,0,1,6.5,5.31,5.31,0,0,0,4.9,4.9,5.31,5.31,0,0,0,6.5,1,5.31,5.31,0,0,0,8.1,4.9,5.31,5.31,0,0,0,12,6.5,5.46,5.46,0,0,0,6.5,12Z\"/>\n",
              "  </svg>\n",
              "    </button>\n",
              "    <script>\n",
              "      (() => {\n",
              "      const buttonEl =\n",
              "        document.querySelector('#id_b9a80ecd-c1ed-47f7-943f-ba7bd7656da7 button.colab-df-generate');\n",
              "      buttonEl.style.display =\n",
              "        google.colab.kernel.accessAllowed ? 'block' : 'none';\n",
              "\n",
              "      buttonEl.onclick = () => {\n",
              "        google.colab.notebook.generateWithVariable('data');\n",
              "      }\n",
              "      })();\n",
              "    </script>\n",
              "  </div>\n",
              "\n",
              "    </div>\n",
              "  </div>\n"
            ],
            "application/vnd.google.colaboratory.intrinsic+json": {
              "type": "dataframe",
              "variable_name": "data",
              "summary": "{\n  \"name\": \"data\",\n  \"rows\": 4,\n  \"fields\": [\n    {\n      \"column\": \"NumRooms\",\n      \"properties\": {\n        \"dtype\": \"number\",\n        \"std\": 1.4142135623730951,\n        \"min\": 2.0,\n        \"max\": 4.0,\n        \"num_unique_values\": 2,\n        \"samples\": [\n          4.0,\n          2.0\n        ],\n        \"semantic_type\": \"\",\n        \"description\": \"\"\n      }\n    },\n    {\n      \"column\": \"Alley\",\n      \"properties\": {\n        \"dtype\": \"category\",\n        \"num_unique_values\": 1,\n        \"samples\": [\n          \"Slate\"\n        ],\n        \"semantic_type\": \"\",\n        \"description\": \"\"\n      }\n    },\n    {\n      \"column\": \"Price\",\n      \"properties\": {\n        \"dtype\": \"number\",\n        \"std\": 30493,\n        \"min\": 106000,\n        \"max\": 178637,\n        \"num_unique_values\": 4,\n        \"samples\": [\n          106000\n        ],\n        \"semantic_type\": \"\",\n        \"description\": \"\"\n      }\n    }\n  ]\n}"
            }
          },
          "metadata": {},
          "execution_count": 48
        }
      ]
    },
    {
      "cell_type": "markdown",
      "source": [
        "convert all columns with numbers to numeric and then fill NA with mean."
      ],
      "metadata": {
        "id": "QNnByVNXlek-"
      }
    },
    {
      "cell_type": "code",
      "source": [],
      "metadata": {
        "id": "-cyxr6hYleE9"
      },
      "execution_count": null,
      "outputs": []
    },
    {
      "cell_type": "code",
      "source": [
        "data['NumRooms'] = pd.to_numeric(data['NumRooms'], errors='coerce')"
      ],
      "metadata": {
        "id": "LXRUzwPIhwRL"
      },
      "execution_count": 47,
      "outputs": []
    },
    {
      "cell_type": "code",
      "source": [
        "X, y= data.iloc[:, 0:2], data.iloc[:, 2]"
      ],
      "metadata": {
        "id": "1A4S3llrf-h6"
      },
      "execution_count": 49,
      "outputs": []
    },
    {
      "cell_type": "code",
      "source": [
        "X= pd.get_dummies(X, dummy_na=True)"
      ],
      "metadata": {
        "id": "MawtXomVgLvU"
      },
      "execution_count": 51,
      "outputs": []
    },
    {
      "cell_type": "code",
      "source": [
        "X= X.fillna(X.mean())"
      ],
      "metadata": {
        "id": "kTXtMRBuhBmj"
      },
      "execution_count": 52,
      "outputs": []
    },
    {
      "cell_type": "code",
      "source": [
        "X"
      ],
      "metadata": {
        "colab": {
          "base_uri": "https://localhost:8080/",
          "height": 175
        },
        "id": "SrcDgUUphJFi",
        "outputId": "fbf82267-470c-42be-ca30-a6503cdf8585"
      },
      "execution_count": 55,
      "outputs": [
        {
          "output_type": "execute_result",
          "data": {
            "text/plain": [
              "   NumRooms  Alley_Slate  Alley_nan\n",
              "0       3.0        False       True\n",
              "1       2.0        False       True\n",
              "2       4.0         True      False\n",
              "3       3.0        False       True"
            ],
            "text/html": [
              "\n",
              "  <div id=\"df-95161b23-3788-4a55-88a3-3c231f0030a0\" class=\"colab-df-container\">\n",
              "    <div>\n",
              "<style scoped>\n",
              "    .dataframe tbody tr th:only-of-type {\n",
              "        vertical-align: middle;\n",
              "    }\n",
              "\n",
              "    .dataframe tbody tr th {\n",
              "        vertical-align: top;\n",
              "    }\n",
              "\n",
              "    .dataframe thead th {\n",
              "        text-align: right;\n",
              "    }\n",
              "</style>\n",
              "<table border=\"1\" class=\"dataframe\">\n",
              "  <thead>\n",
              "    <tr style=\"text-align: right;\">\n",
              "      <th></th>\n",
              "      <th>NumRooms</th>\n",
              "      <th>Alley_Slate</th>\n",
              "      <th>Alley_nan</th>\n",
              "    </tr>\n",
              "  </thead>\n",
              "  <tbody>\n",
              "    <tr>\n",
              "      <th>0</th>\n",
              "      <td>3.0</td>\n",
              "      <td>False</td>\n",
              "      <td>True</td>\n",
              "    </tr>\n",
              "    <tr>\n",
              "      <th>1</th>\n",
              "      <td>2.0</td>\n",
              "      <td>False</td>\n",
              "      <td>True</td>\n",
              "    </tr>\n",
              "    <tr>\n",
              "      <th>2</th>\n",
              "      <td>4.0</td>\n",
              "      <td>True</td>\n",
              "      <td>False</td>\n",
              "    </tr>\n",
              "    <tr>\n",
              "      <th>3</th>\n",
              "      <td>3.0</td>\n",
              "      <td>False</td>\n",
              "      <td>True</td>\n",
              "    </tr>\n",
              "  </tbody>\n",
              "</table>\n",
              "</div>\n",
              "    <div class=\"colab-df-buttons\">\n",
              "\n",
              "  <div class=\"colab-df-container\">\n",
              "    <button class=\"colab-df-convert\" onclick=\"convertToInteractive('df-95161b23-3788-4a55-88a3-3c231f0030a0')\"\n",
              "            title=\"Convert this dataframe to an interactive table.\"\n",
              "            style=\"display:none;\">\n",
              "\n",
              "  <svg xmlns=\"http://www.w3.org/2000/svg\" height=\"24px\" viewBox=\"0 -960 960 960\">\n",
              "    <path d=\"M120-120v-720h720v720H120Zm60-500h600v-160H180v160Zm220 220h160v-160H400v160Zm0 220h160v-160H400v160ZM180-400h160v-160H180v160Zm440 0h160v-160H620v160ZM180-180h160v-160H180v160Zm440 0h160v-160H620v160Z\"/>\n",
              "  </svg>\n",
              "    </button>\n",
              "\n",
              "  <style>\n",
              "    .colab-df-container {\n",
              "      display:flex;\n",
              "      gap: 12px;\n",
              "    }\n",
              "\n",
              "    .colab-df-convert {\n",
              "      background-color: #E8F0FE;\n",
              "      border: none;\n",
              "      border-radius: 50%;\n",
              "      cursor: pointer;\n",
              "      display: none;\n",
              "      fill: #1967D2;\n",
              "      height: 32px;\n",
              "      padding: 0 0 0 0;\n",
              "      width: 32px;\n",
              "    }\n",
              "\n",
              "    .colab-df-convert:hover {\n",
              "      background-color: #E2EBFA;\n",
              "      box-shadow: 0px 1px 2px rgba(60, 64, 67, 0.3), 0px 1px 3px 1px rgba(60, 64, 67, 0.15);\n",
              "      fill: #174EA6;\n",
              "    }\n",
              "\n",
              "    .colab-df-buttons div {\n",
              "      margin-bottom: 4px;\n",
              "    }\n",
              "\n",
              "    [theme=dark] .colab-df-convert {\n",
              "      background-color: #3B4455;\n",
              "      fill: #D2E3FC;\n",
              "    }\n",
              "\n",
              "    [theme=dark] .colab-df-convert:hover {\n",
              "      background-color: #434B5C;\n",
              "      box-shadow: 0px 1px 3px 1px rgba(0, 0, 0, 0.15);\n",
              "      filter: drop-shadow(0px 1px 2px rgba(0, 0, 0, 0.3));\n",
              "      fill: #FFFFFF;\n",
              "    }\n",
              "  </style>\n",
              "\n",
              "    <script>\n",
              "      const buttonEl =\n",
              "        document.querySelector('#df-95161b23-3788-4a55-88a3-3c231f0030a0 button.colab-df-convert');\n",
              "      buttonEl.style.display =\n",
              "        google.colab.kernel.accessAllowed ? 'block' : 'none';\n",
              "\n",
              "      async function convertToInteractive(key) {\n",
              "        const element = document.querySelector('#df-95161b23-3788-4a55-88a3-3c231f0030a0');\n",
              "        const dataTable =\n",
              "          await google.colab.kernel.invokeFunction('convertToInteractive',\n",
              "                                                    [key], {});\n",
              "        if (!dataTable) return;\n",
              "\n",
              "        const docLinkHtml = 'Like what you see? Visit the ' +\n",
              "          '<a target=\"_blank\" href=https://colab.research.google.com/notebooks/data_table.ipynb>data table notebook</a>'\n",
              "          + ' to learn more about interactive tables.';\n",
              "        element.innerHTML = '';\n",
              "        dataTable['output_type'] = 'display_data';\n",
              "        await google.colab.output.renderOutput(dataTable, element);\n",
              "        const docLink = document.createElement('div');\n",
              "        docLink.innerHTML = docLinkHtml;\n",
              "        element.appendChild(docLink);\n",
              "      }\n",
              "    </script>\n",
              "  </div>\n",
              "\n",
              "\n",
              "<div id=\"df-e2b23f64-efb9-4372-a16c-fff935399a54\">\n",
              "  <button class=\"colab-df-quickchart\" onclick=\"quickchart('df-e2b23f64-efb9-4372-a16c-fff935399a54')\"\n",
              "            title=\"Suggest charts\"\n",
              "            style=\"display:none;\">\n",
              "\n",
              "<svg xmlns=\"http://www.w3.org/2000/svg\" height=\"24px\"viewBox=\"0 0 24 24\"\n",
              "     width=\"24px\">\n",
              "    <g>\n",
              "        <path d=\"M19 3H5c-1.1 0-2 .9-2 2v14c0 1.1.9 2 2 2h14c1.1 0 2-.9 2-2V5c0-1.1-.9-2-2-2zM9 17H7v-7h2v7zm4 0h-2V7h2v10zm4 0h-2v-4h2v4z\"/>\n",
              "    </g>\n",
              "</svg>\n",
              "  </button>\n",
              "\n",
              "<style>\n",
              "  .colab-df-quickchart {\n",
              "      --bg-color: #E8F0FE;\n",
              "      --fill-color: #1967D2;\n",
              "      --hover-bg-color: #E2EBFA;\n",
              "      --hover-fill-color: #174EA6;\n",
              "      --disabled-fill-color: #AAA;\n",
              "      --disabled-bg-color: #DDD;\n",
              "  }\n",
              "\n",
              "  [theme=dark] .colab-df-quickchart {\n",
              "      --bg-color: #3B4455;\n",
              "      --fill-color: #D2E3FC;\n",
              "      --hover-bg-color: #434B5C;\n",
              "      --hover-fill-color: #FFFFFF;\n",
              "      --disabled-bg-color: #3B4455;\n",
              "      --disabled-fill-color: #666;\n",
              "  }\n",
              "\n",
              "  .colab-df-quickchart {\n",
              "    background-color: var(--bg-color);\n",
              "    border: none;\n",
              "    border-radius: 50%;\n",
              "    cursor: pointer;\n",
              "    display: none;\n",
              "    fill: var(--fill-color);\n",
              "    height: 32px;\n",
              "    padding: 0;\n",
              "    width: 32px;\n",
              "  }\n",
              "\n",
              "  .colab-df-quickchart:hover {\n",
              "    background-color: var(--hover-bg-color);\n",
              "    box-shadow: 0 1px 2px rgba(60, 64, 67, 0.3), 0 1px 3px 1px rgba(60, 64, 67, 0.15);\n",
              "    fill: var(--button-hover-fill-color);\n",
              "  }\n",
              "\n",
              "  .colab-df-quickchart-complete:disabled,\n",
              "  .colab-df-quickchart-complete:disabled:hover {\n",
              "    background-color: var(--disabled-bg-color);\n",
              "    fill: var(--disabled-fill-color);\n",
              "    box-shadow: none;\n",
              "  }\n",
              "\n",
              "  .colab-df-spinner {\n",
              "    border: 2px solid var(--fill-color);\n",
              "    border-color: transparent;\n",
              "    border-bottom-color: var(--fill-color);\n",
              "    animation:\n",
              "      spin 1s steps(1) infinite;\n",
              "  }\n",
              "\n",
              "  @keyframes spin {\n",
              "    0% {\n",
              "      border-color: transparent;\n",
              "      border-bottom-color: var(--fill-color);\n",
              "      border-left-color: var(--fill-color);\n",
              "    }\n",
              "    20% {\n",
              "      border-color: transparent;\n",
              "      border-left-color: var(--fill-color);\n",
              "      border-top-color: var(--fill-color);\n",
              "    }\n",
              "    30% {\n",
              "      border-color: transparent;\n",
              "      border-left-color: var(--fill-color);\n",
              "      border-top-color: var(--fill-color);\n",
              "      border-right-color: var(--fill-color);\n",
              "    }\n",
              "    40% {\n",
              "      border-color: transparent;\n",
              "      border-right-color: var(--fill-color);\n",
              "      border-top-color: var(--fill-color);\n",
              "    }\n",
              "    60% {\n",
              "      border-color: transparent;\n",
              "      border-right-color: var(--fill-color);\n",
              "    }\n",
              "    80% {\n",
              "      border-color: transparent;\n",
              "      border-right-color: var(--fill-color);\n",
              "      border-bottom-color: var(--fill-color);\n",
              "    }\n",
              "    90% {\n",
              "      border-color: transparent;\n",
              "      border-bottom-color: var(--fill-color);\n",
              "    }\n",
              "  }\n",
              "</style>\n",
              "\n",
              "  <script>\n",
              "    async function quickchart(key) {\n",
              "      const quickchartButtonEl =\n",
              "        document.querySelector('#' + key + ' button');\n",
              "      quickchartButtonEl.disabled = true;  // To prevent multiple clicks.\n",
              "      quickchartButtonEl.classList.add('colab-df-spinner');\n",
              "      try {\n",
              "        const charts = await google.colab.kernel.invokeFunction(\n",
              "            'suggestCharts', [key], {});\n",
              "      } catch (error) {\n",
              "        console.error('Error during call to suggestCharts:', error);\n",
              "      }\n",
              "      quickchartButtonEl.classList.remove('colab-df-spinner');\n",
              "      quickchartButtonEl.classList.add('colab-df-quickchart-complete');\n",
              "    }\n",
              "    (() => {\n",
              "      let quickchartButtonEl =\n",
              "        document.querySelector('#df-e2b23f64-efb9-4372-a16c-fff935399a54 button');\n",
              "      quickchartButtonEl.style.display =\n",
              "        google.colab.kernel.accessAllowed ? 'block' : 'none';\n",
              "    })();\n",
              "  </script>\n",
              "</div>\n",
              "\n",
              "  <div id=\"id_51ff1751-668c-4a28-b588-9955bed3e26d\">\n",
              "    <style>\n",
              "      .colab-df-generate {\n",
              "        background-color: #E8F0FE;\n",
              "        border: none;\n",
              "        border-radius: 50%;\n",
              "        cursor: pointer;\n",
              "        display: none;\n",
              "        fill: #1967D2;\n",
              "        height: 32px;\n",
              "        padding: 0 0 0 0;\n",
              "        width: 32px;\n",
              "      }\n",
              "\n",
              "      .colab-df-generate:hover {\n",
              "        background-color: #E2EBFA;\n",
              "        box-shadow: 0px 1px 2px rgba(60, 64, 67, 0.3), 0px 1px 3px 1px rgba(60, 64, 67, 0.15);\n",
              "        fill: #174EA6;\n",
              "      }\n",
              "\n",
              "      [theme=dark] .colab-df-generate {\n",
              "        background-color: #3B4455;\n",
              "        fill: #D2E3FC;\n",
              "      }\n",
              "\n",
              "      [theme=dark] .colab-df-generate:hover {\n",
              "        background-color: #434B5C;\n",
              "        box-shadow: 0px 1px 3px 1px rgba(0, 0, 0, 0.15);\n",
              "        filter: drop-shadow(0px 1px 2px rgba(0, 0, 0, 0.3));\n",
              "        fill: #FFFFFF;\n",
              "      }\n",
              "    </style>\n",
              "    <button class=\"colab-df-generate\" onclick=\"generateWithVariable('X')\"\n",
              "            title=\"Generate code using this dataframe.\"\n",
              "            style=\"display:none;\">\n",
              "\n",
              "  <svg xmlns=\"http://www.w3.org/2000/svg\" height=\"24px\"viewBox=\"0 0 24 24\"\n",
              "       width=\"24px\">\n",
              "    <path d=\"M7,19H8.4L18.45,9,17,7.55,7,17.6ZM5,21V16.75L18.45,3.32a2,2,0,0,1,2.83,0l1.4,1.43a1.91,1.91,0,0,1,.58,1.4,1.91,1.91,0,0,1-.58,1.4L9.25,21ZM18.45,9,17,7.55Zm-12,3A5.31,5.31,0,0,0,4.9,8.1,5.31,5.31,0,0,0,1,6.5,5.31,5.31,0,0,0,4.9,4.9,5.31,5.31,0,0,0,6.5,1,5.31,5.31,0,0,0,8.1,4.9,5.31,5.31,0,0,0,12,6.5,5.46,5.46,0,0,0,6.5,12Z\"/>\n",
              "  </svg>\n",
              "    </button>\n",
              "    <script>\n",
              "      (() => {\n",
              "      const buttonEl =\n",
              "        document.querySelector('#id_51ff1751-668c-4a28-b588-9955bed3e26d button.colab-df-generate');\n",
              "      buttonEl.style.display =\n",
              "        google.colab.kernel.accessAllowed ? 'block' : 'none';\n",
              "\n",
              "      buttonEl.onclick = () => {\n",
              "        google.colab.notebook.generateWithVariable('X');\n",
              "      }\n",
              "      })();\n",
              "    </script>\n",
              "  </div>\n",
              "\n",
              "    </div>\n",
              "  </div>\n"
            ],
            "application/vnd.google.colaboratory.intrinsic+json": {
              "type": "dataframe",
              "variable_name": "X",
              "summary": "{\n  \"name\": \"X\",\n  \"rows\": 4,\n  \"fields\": [\n    {\n      \"column\": \"NumRooms\",\n      \"properties\": {\n        \"dtype\": \"number\",\n        \"std\": 0.816496580927726,\n        \"min\": 2.0,\n        \"max\": 4.0,\n        \"num_unique_values\": 3,\n        \"samples\": [\n          3.0,\n          2.0,\n          4.0\n        ],\n        \"semantic_type\": \"\",\n        \"description\": \"\"\n      }\n    },\n    {\n      \"column\": \"Alley_Slate\",\n      \"properties\": {\n        \"dtype\": \"boolean\",\n        \"num_unique_values\": 2,\n        \"samples\": [\n          true,\n          false\n        ],\n        \"semantic_type\": \"\",\n        \"description\": \"\"\n      }\n    },\n    {\n      \"column\": \"Alley_nan\",\n      \"properties\": {\n        \"dtype\": \"boolean\",\n        \"num_unique_values\": 2,\n        \"samples\": [\n          false,\n          true\n        ],\n        \"semantic_type\": \"\",\n        \"description\": \"\"\n      }\n    }\n  ]\n}"
            }
          },
          "metadata": {},
          "execution_count": 55
        }
      ]
    },
    {
      "cell_type": "code",
      "source": [],
      "metadata": {
        "id": "fVE1A75vhSOL"
      },
      "execution_count": null,
      "outputs": []
    }
  ]
}